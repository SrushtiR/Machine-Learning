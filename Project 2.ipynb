{
 "cells": [
  {
   "cell_type": "code",
   "execution_count": 1,
   "id": "783e5b9d",
   "metadata": {},
   "outputs": [],
   "source": [
    "import pandas as pd\n",
    "import numpy as np\n",
    "import matplotlib.pyplot as plt\n",
    "import seaborn as sns\n",
    "\n",
    "from sklearn.linear_model import LinearRegression\n",
    "from sklearn.preprocessing import OneHotEncoder\n",
    "from sklearn.linear_model import LogisticRegression\n",
    "from sklearn.model_selection import train_test_split\n",
    "from sklearn.neighbors import KNeighborsClassifier\n",
    "from sklearn.svm import SVC\n",
    "from sklearn.tree import DecisionTreeClassifier,DecisionTreeRegressor\n",
    "from sklearn import tree\n",
    "from sklearn.metrics import r2_score,accuracy_score,classification_report\n",
    "\n",
    "import warnings\n",
    "warnings.filterwarnings('ignore')"
   ]
  },
  {
   "cell_type": "code",
   "execution_count": 2,
   "id": "51b05051",
   "metadata": {},
   "outputs": [
    {
     "data": {
      "text/html": [
       "<div>\n",
       "<style scoped>\n",
       "    .dataframe tbody tr th:only-of-type {\n",
       "        vertical-align: middle;\n",
       "    }\n",
       "\n",
       "    .dataframe tbody tr th {\n",
       "        vertical-align: top;\n",
       "    }\n",
       "\n",
       "    .dataframe thead th {\n",
       "        text-align: right;\n",
       "    }\n",
       "</style>\n",
       "<table border=\"1\" class=\"dataframe\">\n",
       "  <thead>\n",
       "    <tr style=\"text-align: right;\">\n",
       "      <th></th>\n",
       "      <th>Age</th>\n",
       "      <th>Gender</th>\n",
       "      <th>Education Level</th>\n",
       "      <th>Job Title</th>\n",
       "      <th>Years of Experience</th>\n",
       "      <th>Salary</th>\n",
       "    </tr>\n",
       "  </thead>\n",
       "  <tbody>\n",
       "    <tr>\n",
       "      <th>0</th>\n",
       "      <td>32.0</td>\n",
       "      <td>Male</td>\n",
       "      <td>Bachelor's</td>\n",
       "      <td>Software Engineer</td>\n",
       "      <td>5.0</td>\n",
       "      <td>90000.0</td>\n",
       "    </tr>\n",
       "    <tr>\n",
       "      <th>1</th>\n",
       "      <td>28.0</td>\n",
       "      <td>Female</td>\n",
       "      <td>Master's</td>\n",
       "      <td>Data Analyst</td>\n",
       "      <td>3.0</td>\n",
       "      <td>65000.0</td>\n",
       "    </tr>\n",
       "    <tr>\n",
       "      <th>2</th>\n",
       "      <td>45.0</td>\n",
       "      <td>Male</td>\n",
       "      <td>PhD</td>\n",
       "      <td>Senior Manager</td>\n",
       "      <td>15.0</td>\n",
       "      <td>150000.0</td>\n",
       "    </tr>\n",
       "    <tr>\n",
       "      <th>3</th>\n",
       "      <td>36.0</td>\n",
       "      <td>Female</td>\n",
       "      <td>Bachelor's</td>\n",
       "      <td>Sales Associate</td>\n",
       "      <td>7.0</td>\n",
       "      <td>60000.0</td>\n",
       "    </tr>\n",
       "    <tr>\n",
       "      <th>4</th>\n",
       "      <td>52.0</td>\n",
       "      <td>Male</td>\n",
       "      <td>Master's</td>\n",
       "      <td>Director</td>\n",
       "      <td>20.0</td>\n",
       "      <td>200000.0</td>\n",
       "    </tr>\n",
       "    <tr>\n",
       "      <th>...</th>\n",
       "      <td>...</td>\n",
       "      <td>...</td>\n",
       "      <td>...</td>\n",
       "      <td>...</td>\n",
       "      <td>...</td>\n",
       "      <td>...</td>\n",
       "    </tr>\n",
       "    <tr>\n",
       "      <th>370</th>\n",
       "      <td>35.0</td>\n",
       "      <td>Female</td>\n",
       "      <td>Bachelor's</td>\n",
       "      <td>Senior Marketing Analyst</td>\n",
       "      <td>8.0</td>\n",
       "      <td>85000.0</td>\n",
       "    </tr>\n",
       "    <tr>\n",
       "      <th>371</th>\n",
       "      <td>43.0</td>\n",
       "      <td>Male</td>\n",
       "      <td>Master's</td>\n",
       "      <td>Director of Operations</td>\n",
       "      <td>19.0</td>\n",
       "      <td>170000.0</td>\n",
       "    </tr>\n",
       "    <tr>\n",
       "      <th>372</th>\n",
       "      <td>29.0</td>\n",
       "      <td>Female</td>\n",
       "      <td>Bachelor's</td>\n",
       "      <td>Junior Project Manager</td>\n",
       "      <td>2.0</td>\n",
       "      <td>40000.0</td>\n",
       "    </tr>\n",
       "    <tr>\n",
       "      <th>373</th>\n",
       "      <td>34.0</td>\n",
       "      <td>Male</td>\n",
       "      <td>Bachelor's</td>\n",
       "      <td>Senior Operations Coordinator</td>\n",
       "      <td>7.0</td>\n",
       "      <td>90000.0</td>\n",
       "    </tr>\n",
       "    <tr>\n",
       "      <th>374</th>\n",
       "      <td>44.0</td>\n",
       "      <td>Female</td>\n",
       "      <td>PhD</td>\n",
       "      <td>Senior Business Analyst</td>\n",
       "      <td>15.0</td>\n",
       "      <td>150000.0</td>\n",
       "    </tr>\n",
       "  </tbody>\n",
       "</table>\n",
       "<p>375 rows × 6 columns</p>\n",
       "</div>"
      ],
      "text/plain": [
       "      Age  Gender Education Level                      Job Title  \\\n",
       "0    32.0    Male      Bachelor's              Software Engineer   \n",
       "1    28.0  Female        Master's                   Data Analyst   \n",
       "2    45.0    Male             PhD                 Senior Manager   \n",
       "3    36.0  Female      Bachelor's                Sales Associate   \n",
       "4    52.0    Male        Master's                       Director   \n",
       "..    ...     ...             ...                            ...   \n",
       "370  35.0  Female      Bachelor's       Senior Marketing Analyst   \n",
       "371  43.0    Male        Master's         Director of Operations   \n",
       "372  29.0  Female      Bachelor's         Junior Project Manager   \n",
       "373  34.0    Male      Bachelor's  Senior Operations Coordinator   \n",
       "374  44.0  Female             PhD        Senior Business Analyst   \n",
       "\n",
       "     Years of Experience    Salary  \n",
       "0                    5.0   90000.0  \n",
       "1                    3.0   65000.0  \n",
       "2                   15.0  150000.0  \n",
       "3                    7.0   60000.0  \n",
       "4                   20.0  200000.0  \n",
       "..                   ...       ...  \n",
       "370                  8.0   85000.0  \n",
       "371                 19.0  170000.0  \n",
       "372                  2.0   40000.0  \n",
       "373                  7.0   90000.0  \n",
       "374                 15.0  150000.0  \n",
       "\n",
       "[375 rows x 6 columns]"
      ]
     },
     "execution_count": 2,
     "metadata": {},
     "output_type": "execute_result"
    }
   ],
   "source": [
    "df = pd.read_csv('Salary Data.csv')\n",
    "df"
   ]
  },
  {
   "cell_type": "code",
   "execution_count": 3,
   "id": "6914121d",
   "metadata": {},
   "outputs": [
    {
     "data": {
      "text/plain": [
       "Age                    2\n",
       "Gender                 2\n",
       "Education Level        2\n",
       "Job Title              2\n",
       "Years of Experience    2\n",
       "Salary                 2\n",
       "dtype: int64"
      ]
     },
     "execution_count": 3,
     "metadata": {},
     "output_type": "execute_result"
    }
   ],
   "source": [
    "df.isnull().sum()"
   ]
  },
  {
   "cell_type": "code",
   "execution_count": 4,
   "id": "68245e6c",
   "metadata": {},
   "outputs": [],
   "source": [
    "df=df.dropna()"
   ]
  },
  {
   "cell_type": "code",
   "execution_count": 5,
   "id": "cda8b124",
   "metadata": {},
   "outputs": [],
   "source": [
    "df.drop('Gender',axis=1,inplace=True)"
   ]
  },
  {
   "cell_type": "code",
   "execution_count": 6,
   "id": "79cf38b0",
   "metadata": {},
   "outputs": [
    {
     "name": "stdout",
     "output_type": "stream",
     "text": [
      "<class 'pandas.core.frame.DataFrame'>\n",
      "Int64Index: 373 entries, 0 to 374\n",
      "Data columns (total 5 columns):\n",
      " #   Column               Non-Null Count  Dtype  \n",
      "---  ------               --------------  -----  \n",
      " 0   Age                  373 non-null    float64\n",
      " 1   Education Level      373 non-null    object \n",
      " 2   Job Title            373 non-null    object \n",
      " 3   Years of Experience  373 non-null    float64\n",
      " 4   Salary               373 non-null    float64\n",
      "dtypes: float64(3), object(2)\n",
      "memory usage: 17.5+ KB\n"
     ]
    }
   ],
   "source": [
    "df.info()"
   ]
  },
  {
   "cell_type": "code",
   "execution_count": 7,
   "id": "0e1b1689",
   "metadata": {},
   "outputs": [
    {
     "name": "stdout",
     "output_type": "stream",
     "text": [
      "0        Engineer\n",
      "1         Analyst\n",
      "2         Manager\n",
      "3           Sales\n",
      "4        Director\n",
      "          ...    \n",
      "370       Analyst\n",
      "371      Director\n",
      "372       Manager\n",
      "373    Operations\n",
      "374       Analyst\n",
      "Name: Job Title, Length: 373, dtype: object\n"
     ]
    }
   ],
   "source": [
    "for i in df.index:\n",
    "    if isinstance(df.at[i, 'Job Title'], str):\n",
    "        if 'Analyst' in df.at[i, 'Job Title']:\n",
    "            df.at[i, 'Job Title'] = 'Analyst'\n",
    "        elif 'Engineer' in df.at[i, 'Job Title']:\n",
    "            df.at[i, 'Job Title'] = 'Engineer'\n",
    "        elif 'Manager' in df.at[i, 'Job Title']:\n",
    "            df.at[i, 'Job Title'] = 'Manager'\n",
    "        elif 'Developer' in df.at[i, 'Job Title']:\n",
    "            df.at[i, 'Job Title'] = 'Developer'\n",
    "        elif 'Director' in df.at[i, 'Job Title']:\n",
    "            df.at[i, 'Job Title'] = 'Director'\n",
    "        elif 'Designer' in df.at[i, 'Job Title']:\n",
    "            df.at[i, 'Job Title'] = 'Designer'\n",
    "        elif 'Consultant' in df.at[i, 'Job Title']:\n",
    "            df.at[i, 'Job Title'] = 'Consultant'\n",
    "        elif 'Sales' in df.at[i, 'Job Title']:\n",
    "            df.at[i, 'Job Title'] = 'Sales'\n",
    "        elif 'VP' in df.at[i, 'Job Title']:\n",
    "            df.at[i, 'Job Title'] = 'VP'\n",
    "        elif 'Clerk' in df.at[i, 'Job Title']:\n",
    "            df.at[i, 'Job Title'] = 'Clerk'\n",
    "        elif 'Scientist' in df.at[i, 'Job Title']:\n",
    "            df.at[i, 'Job Title'] = 'Scienntist'\n",
    "        elif 'Marketing' in df.at[i, 'Job Title']:\n",
    "            df.at[i, 'Job Title'] = 'Marketing' \n",
    "        elif 'Assistant' in df.at[i, 'Job Title']:\n",
    "            df.at[i, 'Job Title'] = 'Assistant'\n",
    "        elif 'Accountant' in df.at[i, 'Job Title']:\n",
    "            df.at[i, 'Job Title'] = 'Accountant'\n",
    "        elif 'HR' in df.at[i, 'Job Title']:\n",
    "            df.at[i, 'Job Title'] = 'HR'\n",
    "        elif 'Human Resource' in df.at[i, 'Job Title']:\n",
    "            df.at[i, 'Job Title'] = 'HR'\n",
    "        elif 'Chief' in df.at[i, 'Job Title']:\n",
    "            df.at[i, 'Job Title'] = 'Chief'\n",
    "        elif 'IT' in df.at[i, 'Job Title']:\n",
    "            df.at[i, 'Job Title'] = 'IT'\n",
    "        elif 'Operations' in df.at[i, 'Job Title']:\n",
    "            df.at[i, 'Job Title'] = 'Operations'\n",
    "        elif 'Customer' in df.at[i, 'Job Title']:\n",
    "            df.at[i, 'Job Title'] = 'Customer Success'\n",
    "        elif 'Coordinator' in df.at[i, 'Job Title']:\n",
    "            df.at[i, 'Job Title'] = 'Coordinator'\n",
    "        elif 'Software' in df.at[i, 'Job Title']:\n",
    "            df.at[i, 'Job Title'] = 'IT'\n",
    "        elif 'Advisor' in df.at[i, 'Job Title']:\n",
    "            df.at[i, 'Job Title'] = 'Advisor'\n",
    "        elif 'Training' in df.at[i, 'Job Title']:\n",
    "            df.at[i, 'Job Title'] = 'Trainer'\n",
    "        elif 'Executive' in df.at[i, 'Job Title']:\n",
    "            df.at[i, 'Job Title'] = 'Executive'\n",
    "        elif 'Business Development' in df.at[i, 'Job Title']:\n",
    "            df.at[i, 'Job Title'] = 'Business Developer'\n",
    "        elif 'Writer' in df.at[i, 'Job Title']:\n",
    "            df.at[i, 'Job Title'] = 'Writer'\n",
    "        elif 'Copywriter' in df.at[i, 'Job Title']:\n",
    "            df.at[i, 'Job Title'] = 'Writer'\n",
    "        elif 'Recruiter' in df.at[i, 'Job Title']:\n",
    "            df.at[i, 'Job Title'] = 'Recruiter'\n",
    "        elif 'Researcher' in df.at[i, 'Job Title']:\n",
    "            df.at[i, 'Job Title'] = 'Researcher'\n",
    "        elif 'Social Media' in df.at[i, 'Job Title']:\n",
    "            df.at[i, 'Job Title'] = 'Social Media Specialist'\n",
    "            \n",
    "            \n",
    "#         else:\n",
    "#             df.at[i, 'Job Title'] = 'Other'\n",
    "\n",
    "print(df['Job Title'])"
   ]
  },
  {
   "cell_type": "code",
   "execution_count": 8,
   "id": "d8246371",
   "metadata": {},
   "outputs": [
    {
     "data": {
      "text/plain": [
       "array(['Engineer', 'Analyst', 'Manager', 'Sales', 'Director', 'Marketing',\n",
       "       'Scienntist', 'Developer', 'Customer Success', 'Clerk', 'VP', 'IT',\n",
       "       'Recruiter', 'Social Media Specialist', 'Consultant', 'Designer',\n",
       "       'CEO', 'Accountant', 'Writer', 'HR', 'Assistant', 'Coordinator',\n",
       "       'Researcher', 'Technical Support Specialist', 'Chief', 'Advisor',\n",
       "       'Trainer', 'Digital Content Producer', 'Business Developer',\n",
       "       'Executive', 'Operations'], dtype=object)"
      ]
     },
     "execution_count": 8,
     "metadata": {},
     "output_type": "execute_result"
    }
   ],
   "source": [
    "df['Job Title'].unique()"
   ]
  },
  {
   "cell_type": "code",
   "execution_count": 9,
   "id": "078d92e9",
   "metadata": {
    "scrolled": true
   },
   "outputs": [
    {
     "data": {
      "text/plain": [
       "Age                    0\n",
       "Education Level        0\n",
       "Job Title              0\n",
       "Years of Experience    0\n",
       "Salary                 0\n",
       "dtype: int64"
      ]
     },
     "execution_count": 9,
     "metadata": {},
     "output_type": "execute_result"
    }
   ],
   "source": [
    "df.isnull().sum() #No null values"
   ]
  },
  {
   "cell_type": "code",
   "execution_count": 12,
   "id": "e3c2a264",
   "metadata": {},
   "outputs": [],
   "source": [
    "for i in df.index:\n",
    "    if isinstance(df.at[i, 'Education Level'], str):\n",
    "        if \"Bachelor's\" in df.at[i, 'Education Level']:\n",
    "            df.at[i, 'Education Level'] = 'Bachelors'\n",
    "        elif \"Master's\" in df.at[i, 'Education Level']:\n",
    "            df.at[i, 'Education Level'] = 'Masters'\n",
    "        elif \"PhD\" in df.at[i, 'Education Level']:\n",
    "            df.at[i, 'Education Level'] = 'Phd'"
   ]
  },
  {
   "cell_type": "code",
   "execution_count": 13,
   "id": "fa9c3ed9",
   "metadata": {},
   "outputs": [
    {
     "data": {
      "text/html": [
       "<div>\n",
       "<style scoped>\n",
       "    .dataframe tbody tr th:only-of-type {\n",
       "        vertical-align: middle;\n",
       "    }\n",
       "\n",
       "    .dataframe tbody tr th {\n",
       "        vertical-align: top;\n",
       "    }\n",
       "\n",
       "    .dataframe thead th {\n",
       "        text-align: right;\n",
       "    }\n",
       "</style>\n",
       "<table border=\"1\" class=\"dataframe\">\n",
       "  <thead>\n",
       "    <tr style=\"text-align: right;\">\n",
       "      <th></th>\n",
       "      <th>Age</th>\n",
       "      <th>Education Level</th>\n",
       "      <th>Job Title</th>\n",
       "      <th>Years of Experience</th>\n",
       "      <th>Salary</th>\n",
       "    </tr>\n",
       "  </thead>\n",
       "  <tbody>\n",
       "    <tr>\n",
       "      <th>0</th>\n",
       "      <td>32.0</td>\n",
       "      <td>Bachelors</td>\n",
       "      <td>Engineer</td>\n",
       "      <td>5.0</td>\n",
       "      <td>90000.0</td>\n",
       "    </tr>\n",
       "    <tr>\n",
       "      <th>1</th>\n",
       "      <td>28.0</td>\n",
       "      <td>Masters</td>\n",
       "      <td>Analyst</td>\n",
       "      <td>3.0</td>\n",
       "      <td>65000.0</td>\n",
       "    </tr>\n",
       "    <tr>\n",
       "      <th>2</th>\n",
       "      <td>45.0</td>\n",
       "      <td>Phd</td>\n",
       "      <td>Manager</td>\n",
       "      <td>15.0</td>\n",
       "      <td>150000.0</td>\n",
       "    </tr>\n",
       "    <tr>\n",
       "      <th>3</th>\n",
       "      <td>36.0</td>\n",
       "      <td>Bachelors</td>\n",
       "      <td>Sales</td>\n",
       "      <td>7.0</td>\n",
       "      <td>60000.0</td>\n",
       "    </tr>\n",
       "    <tr>\n",
       "      <th>4</th>\n",
       "      <td>52.0</td>\n",
       "      <td>Masters</td>\n",
       "      <td>Director</td>\n",
       "      <td>20.0</td>\n",
       "      <td>200000.0</td>\n",
       "    </tr>\n",
       "    <tr>\n",
       "      <th>...</th>\n",
       "      <td>...</td>\n",
       "      <td>...</td>\n",
       "      <td>...</td>\n",
       "      <td>...</td>\n",
       "      <td>...</td>\n",
       "    </tr>\n",
       "    <tr>\n",
       "      <th>370</th>\n",
       "      <td>35.0</td>\n",
       "      <td>Bachelors</td>\n",
       "      <td>Analyst</td>\n",
       "      <td>8.0</td>\n",
       "      <td>85000.0</td>\n",
       "    </tr>\n",
       "    <tr>\n",
       "      <th>371</th>\n",
       "      <td>43.0</td>\n",
       "      <td>Masters</td>\n",
       "      <td>Director</td>\n",
       "      <td>19.0</td>\n",
       "      <td>170000.0</td>\n",
       "    </tr>\n",
       "    <tr>\n",
       "      <th>372</th>\n",
       "      <td>29.0</td>\n",
       "      <td>Bachelors</td>\n",
       "      <td>Manager</td>\n",
       "      <td>2.0</td>\n",
       "      <td>40000.0</td>\n",
       "    </tr>\n",
       "    <tr>\n",
       "      <th>373</th>\n",
       "      <td>34.0</td>\n",
       "      <td>Bachelors</td>\n",
       "      <td>Operations</td>\n",
       "      <td>7.0</td>\n",
       "      <td>90000.0</td>\n",
       "    </tr>\n",
       "    <tr>\n",
       "      <th>374</th>\n",
       "      <td>44.0</td>\n",
       "      <td>Phd</td>\n",
       "      <td>Analyst</td>\n",
       "      <td>15.0</td>\n",
       "      <td>150000.0</td>\n",
       "    </tr>\n",
       "  </tbody>\n",
       "</table>\n",
       "<p>373 rows × 5 columns</p>\n",
       "</div>"
      ],
      "text/plain": [
       "      Age Education Level   Job Title  Years of Experience    Salary\n",
       "0    32.0       Bachelors    Engineer                  5.0   90000.0\n",
       "1    28.0         Masters     Analyst                  3.0   65000.0\n",
       "2    45.0             Phd     Manager                 15.0  150000.0\n",
       "3    36.0       Bachelors       Sales                  7.0   60000.0\n",
       "4    52.0         Masters    Director                 20.0  200000.0\n",
       "..    ...             ...         ...                  ...       ...\n",
       "370  35.0       Bachelors     Analyst                  8.0   85000.0\n",
       "371  43.0         Masters    Director                 19.0  170000.0\n",
       "372  29.0       Bachelors     Manager                  2.0   40000.0\n",
       "373  34.0       Bachelors  Operations                  7.0   90000.0\n",
       "374  44.0             Phd     Analyst                 15.0  150000.0\n",
       "\n",
       "[373 rows x 5 columns]"
      ]
     },
     "execution_count": 13,
     "metadata": {},
     "output_type": "execute_result"
    }
   ],
   "source": [
    "df"
   ]
  },
  {
   "cell_type": "code",
   "execution_count": 14,
   "id": "6fee45d0",
   "metadata": {},
   "outputs": [],
   "source": [
    "df['Age']=df['Age'].astype(int)"
   ]
  },
  {
   "cell_type": "code",
   "execution_count": 15,
   "id": "9d63d95b",
   "metadata": {},
   "outputs": [
    {
     "data": {
      "text/html": [
       "<div>\n",
       "<style scoped>\n",
       "    .dataframe tbody tr th:only-of-type {\n",
       "        vertical-align: middle;\n",
       "    }\n",
       "\n",
       "    .dataframe tbody tr th {\n",
       "        vertical-align: top;\n",
       "    }\n",
       "\n",
       "    .dataframe thead th {\n",
       "        text-align: right;\n",
       "    }\n",
       "</style>\n",
       "<table border=\"1\" class=\"dataframe\">\n",
       "  <thead>\n",
       "    <tr style=\"text-align: right;\">\n",
       "      <th></th>\n",
       "      <th>Age</th>\n",
       "      <th>Education Level</th>\n",
       "      <th>Job Title</th>\n",
       "      <th>Years of Experience</th>\n",
       "      <th>Salary</th>\n",
       "    </tr>\n",
       "  </thead>\n",
       "  <tbody>\n",
       "    <tr>\n",
       "      <th>0</th>\n",
       "      <td>32</td>\n",
       "      <td>Bachelors</td>\n",
       "      <td>Engineer</td>\n",
       "      <td>5.0</td>\n",
       "      <td>90000.0</td>\n",
       "    </tr>\n",
       "    <tr>\n",
       "      <th>1</th>\n",
       "      <td>28</td>\n",
       "      <td>Masters</td>\n",
       "      <td>Analyst</td>\n",
       "      <td>3.0</td>\n",
       "      <td>65000.0</td>\n",
       "    </tr>\n",
       "    <tr>\n",
       "      <th>2</th>\n",
       "      <td>45</td>\n",
       "      <td>Phd</td>\n",
       "      <td>Manager</td>\n",
       "      <td>15.0</td>\n",
       "      <td>150000.0</td>\n",
       "    </tr>\n",
       "    <tr>\n",
       "      <th>3</th>\n",
       "      <td>36</td>\n",
       "      <td>Bachelors</td>\n",
       "      <td>Sales</td>\n",
       "      <td>7.0</td>\n",
       "      <td>60000.0</td>\n",
       "    </tr>\n",
       "    <tr>\n",
       "      <th>4</th>\n",
       "      <td>52</td>\n",
       "      <td>Masters</td>\n",
       "      <td>Director</td>\n",
       "      <td>20.0</td>\n",
       "      <td>200000.0</td>\n",
       "    </tr>\n",
       "  </tbody>\n",
       "</table>\n",
       "</div>"
      ],
      "text/plain": [
       "   Age Education Level Job Title  Years of Experience    Salary\n",
       "0   32       Bachelors  Engineer                  5.0   90000.0\n",
       "1   28         Masters   Analyst                  3.0   65000.0\n",
       "2   45             Phd   Manager                 15.0  150000.0\n",
       "3   36       Bachelors     Sales                  7.0   60000.0\n",
       "4   52         Masters  Director                 20.0  200000.0"
      ]
     },
     "execution_count": 15,
     "metadata": {},
     "output_type": "execute_result"
    }
   ],
   "source": [
    "df.head()"
   ]
  },
  {
   "cell_type": "code",
   "execution_count": 16,
   "id": "42880792",
   "metadata": {
    "scrolled": true
   },
   "outputs": [
    {
     "data": {
      "image/png": "[encoded data removed]",
      "text/plain": [
       "<Figure size 750x750 with 12 Axes>"
      ]
     },
     "metadata": {},
     "output_type": "display_data"
    }
   ],
   "source": [
    "sns.pairplot(df)\n",
    "plt.show()"
   ]
  },
  {
   "cell_type": "code",
   "execution_count": 17,
   "id": "1eca99c8",
   "metadata": {},
   "outputs": [
    {
     "data": {
      "text/html": [
       "<div>\n",
       "<style scoped>\n",
       "    .dataframe tbody tr th:only-of-type {\n",
       "        vertical-align: middle;\n",
       "    }\n",
       "\n",
       "    .dataframe tbody tr th {\n",
       "        vertical-align: top;\n",
       "    }\n",
       "\n",
       "    .dataframe thead th {\n",
       "        text-align: right;\n",
       "    }\n",
       "</style>\n",
       "<table border=\"1\" class=\"dataframe\">\n",
       "  <thead>\n",
       "    <tr style=\"text-align: right;\">\n",
       "      <th></th>\n",
       "      <th>Age</th>\n",
       "      <th>Years of Experience</th>\n",
       "      <th>Salary</th>\n",
       "    </tr>\n",
       "  </thead>\n",
       "  <tbody>\n",
       "    <tr>\n",
       "      <th>Age</th>\n",
       "      <td>1.000000</td>\n",
       "      <td>0.979128</td>\n",
       "      <td>0.922335</td>\n",
       "    </tr>\n",
       "    <tr>\n",
       "      <th>Years of Experience</th>\n",
       "      <td>0.979128</td>\n",
       "      <td>1.000000</td>\n",
       "      <td>0.930338</td>\n",
       "    </tr>\n",
       "    <tr>\n",
       "      <th>Salary</th>\n",
       "      <td>0.922335</td>\n",
       "      <td>0.930338</td>\n",
       "      <td>1.000000</td>\n",
       "    </tr>\n",
       "  </tbody>\n",
       "</table>\n",
       "</div>"
      ],
      "text/plain": [
       "                          Age  Years of Experience    Salary\n",
       "Age                  1.000000             0.979128  0.922335\n",
       "Years of Experience  0.979128             1.000000  0.930338\n",
       "Salary               0.922335             0.930338  1.000000"
      ]
     },
     "execution_count": 17,
     "metadata": {},
     "output_type": "execute_result"
    }
   ],
   "source": [
    "df.corr()"
   ]
  },
  {
   "cell_type": "markdown",
   "id": "c9ed1b3e",
   "metadata": {},
   "source": [
    "## Encoding"
   ]
  },
  {
   "cell_type": "markdown",
   "id": "4b8727cf",
   "metadata": {},
   "source": [
    "### Label Encoder"
   ]
  },
  {
   "cell_type": "code",
   "execution_count": 18,
   "id": "d0f37430",
   "metadata": {},
   "outputs": [],
   "source": [
    "from sklearn.preprocessing import LabelEncoder\n",
    "\n",
    "le = LabelEncoder()\n",
    "\n",
    "df['Job Title'] = le.fit_transform(df['Job Title'])\n",
    "df['Education Level'] = le.fit_transform(df['Education Level'])"
   ]
  },
  {
   "cell_type": "code",
   "execution_count": 19,
   "id": "64f4ce92",
   "metadata": {},
   "outputs": [
    {
     "data": {
      "text/html": [
       "<div>\n",
       "<style scoped>\n",
       "    .dataframe tbody tr th:only-of-type {\n",
       "        vertical-align: middle;\n",
       "    }\n",
       "\n",
       "    .dataframe tbody tr th {\n",
       "        vertical-align: top;\n",
       "    }\n",
       "\n",
       "    .dataframe thead th {\n",
       "        text-align: right;\n",
       "    }\n",
       "</style>\n",
       "<table border=\"1\" class=\"dataframe\">\n",
       "  <thead>\n",
       "    <tr style=\"text-align: right;\">\n",
       "      <th></th>\n",
       "      <th>Age</th>\n",
       "      <th>Education Level</th>\n",
       "      <th>Job Title</th>\n",
       "      <th>Years of Experience</th>\n",
       "      <th>Salary</th>\n",
       "    </tr>\n",
       "  </thead>\n",
       "  <tbody>\n",
       "    <tr>\n",
       "      <th>0</th>\n",
       "      <td>32</td>\n",
       "      <td>0</td>\n",
       "      <td>15</td>\n",
       "      <td>5.0</td>\n",
       "      <td>90000.0</td>\n",
       "    </tr>\n",
       "    <tr>\n",
       "      <th>1</th>\n",
       "      <td>28</td>\n",
       "      <td>1</td>\n",
       "      <td>2</td>\n",
       "      <td>3.0</td>\n",
       "      <td>65000.0</td>\n",
       "    </tr>\n",
       "    <tr>\n",
       "      <th>2</th>\n",
       "      <td>45</td>\n",
       "      <td>2</td>\n",
       "      <td>19</td>\n",
       "      <td>15.0</td>\n",
       "      <td>150000.0</td>\n",
       "    </tr>\n",
       "    <tr>\n",
       "      <th>3</th>\n",
       "      <td>36</td>\n",
       "      <td>0</td>\n",
       "      <td>24</td>\n",
       "      <td>7.0</td>\n",
       "      <td>60000.0</td>\n",
       "    </tr>\n",
       "    <tr>\n",
       "      <th>4</th>\n",
       "      <td>52</td>\n",
       "      <td>1</td>\n",
       "      <td>14</td>\n",
       "      <td>20.0</td>\n",
       "      <td>200000.0</td>\n",
       "    </tr>\n",
       "  </tbody>\n",
       "</table>\n",
       "</div>"
      ],
      "text/plain": [
       "   Age  Education Level  Job Title  Years of Experience    Salary\n",
       "0   32                0         15                  5.0   90000.0\n",
       "1   28                1          2                  3.0   65000.0\n",
       "2   45                2         19                 15.0  150000.0\n",
       "3   36                0         24                  7.0   60000.0\n",
       "4   52                1         14                 20.0  200000.0"
      ]
     },
     "execution_count": 19,
     "metadata": {},
     "output_type": "execute_result"
    }
   ],
   "source": [
    "df.head()"
   ]
  },
  {
   "cell_type": "code",
   "execution_count": 21,
   "id": "a2e8ee8c",
   "metadata": {},
   "outputs": [],
   "source": [
    "x = df.iloc[:,:-1]\n",
    "y = df['Salary']"
   ]
  },
  {
   "cell_type": "code",
   "execution_count": 65,
   "id": "a280dd27",
   "metadata": {},
   "outputs": [
    {
     "data": {
      "text/plain": [
       "40000.0     31\n",
       "50000.0     22\n",
       "95000.0     22\n",
       "180000.0    20\n",
       "120000.0    20\n",
       "90000.0     18\n",
       "150000.0    18\n",
       "45000.0     18\n",
       "160000.0    17\n",
       "60000.0     17\n",
       "110000.0    17\n",
       "170000.0    16\n",
       "130000.0    14\n",
       "100000.0    14\n",
       "140000.0    14\n",
       "35000.0     13\n",
       "80000.0     12\n",
       "55000.0     10\n",
       "85000.0     10\n",
       "70000.0      9\n",
       "65000.0      9\n",
       "105000.0     6\n",
       "190000.0     4\n",
       "75000.0      4\n",
       "115000.0     3\n",
       "250000.0     2\n",
       "200000.0     2\n",
       "135000.0     2\n",
       "175000.0     2\n",
       "125000.0     1\n",
       "30000.0      1\n",
       "220000.0     1\n",
       "185000.0     1\n",
       "145000.0     1\n",
       "155000.0     1\n",
       "350.0        1\n",
       "Name: Salary, dtype: int64"
      ]
     },
     "execution_count": 65,
     "metadata": {},
     "output_type": "execute_result"
    }
   ],
   "source": [
    "y.value_counts()"
   ]
  },
  {
   "cell_type": "markdown",
   "id": "cf0460c8",
   "metadata": {},
   "source": [
    "## Split data into Train & Test"
   ]
  },
  {
   "cell_type": "code",
   "execution_count": 22,
   "id": "b73475d1",
   "metadata": {},
   "outputs": [],
   "source": [
    "xtrain,xtest,ytrain,ytest=train_test_split(x,y,test_size=0.2,random_state=1)"
   ]
  },
  {
   "cell_type": "code",
   "execution_count": 23,
   "id": "5a8c136d",
   "metadata": {},
   "outputs": [
    {
     "data": {
      "text/html": [
       "<div>\n",
       "<style scoped>\n",
       "    .dataframe tbody tr th:only-of-type {\n",
       "        vertical-align: middle;\n",
       "    }\n",
       "\n",
       "    .dataframe tbody tr th {\n",
       "        vertical-align: top;\n",
       "    }\n",
       "\n",
       "    .dataframe thead th {\n",
       "        text-align: right;\n",
       "    }\n",
       "</style>\n",
       "<table border=\"1\" class=\"dataframe\">\n",
       "  <thead>\n",
       "    <tr style=\"text-align: right;\">\n",
       "      <th></th>\n",
       "      <th>Age</th>\n",
       "      <th>Education Level</th>\n",
       "      <th>Job Title</th>\n",
       "      <th>Years of Experience</th>\n",
       "      <th>Salary</th>\n",
       "    </tr>\n",
       "  </thead>\n",
       "  <tbody>\n",
       "    <tr>\n",
       "      <th>0</th>\n",
       "      <td>32</td>\n",
       "      <td>0</td>\n",
       "      <td>15</td>\n",
       "      <td>5.0</td>\n",
       "      <td>90000.0</td>\n",
       "    </tr>\n",
       "    <tr>\n",
       "      <th>1</th>\n",
       "      <td>28</td>\n",
       "      <td>1</td>\n",
       "      <td>2</td>\n",
       "      <td>3.0</td>\n",
       "      <td>65000.0</td>\n",
       "    </tr>\n",
       "    <tr>\n",
       "      <th>2</th>\n",
       "      <td>45</td>\n",
       "      <td>2</td>\n",
       "      <td>19</td>\n",
       "      <td>15.0</td>\n",
       "      <td>150000.0</td>\n",
       "    </tr>\n",
       "    <tr>\n",
       "      <th>3</th>\n",
       "      <td>36</td>\n",
       "      <td>0</td>\n",
       "      <td>24</td>\n",
       "      <td>7.0</td>\n",
       "      <td>60000.0</td>\n",
       "    </tr>\n",
       "    <tr>\n",
       "      <th>4</th>\n",
       "      <td>52</td>\n",
       "      <td>1</td>\n",
       "      <td>14</td>\n",
       "      <td>20.0</td>\n",
       "      <td>200000.0</td>\n",
       "    </tr>\n",
       "  </tbody>\n",
       "</table>\n",
       "</div>"
      ],
      "text/plain": [
       "   Age  Education Level  Job Title  Years of Experience    Salary\n",
       "0   32                0         15                  5.0   90000.0\n",
       "1   28                1          2                  3.0   65000.0\n",
       "2   45                2         19                 15.0  150000.0\n",
       "3   36                0         24                  7.0   60000.0\n",
       "4   52                1         14                 20.0  200000.0"
      ]
     },
     "execution_count": 23,
     "metadata": {},
     "output_type": "execute_result"
    }
   ],
   "source": [
    "df.head()"
   ]
  },
  {
   "cell_type": "code",
   "execution_count": 24,
   "id": "907882f3",
   "metadata": {},
   "outputs": [
    {
     "data": {
      "text/plain": [
       "0      15\n",
       "1       2\n",
       "2      19\n",
       "3      24\n",
       "4      14\n",
       "       ..\n",
       "370     2\n",
       "371    14\n",
       "372    19\n",
       "373    21\n",
       "374     2\n",
       "Name: Job Title, Length: 373, dtype: int32"
      ]
     },
     "execution_count": 24,
     "metadata": {},
     "output_type": "execute_result"
    }
   ],
   "source": [
    "df['Job Title']"
   ]
  },
  {
   "cell_type": "code",
   "execution_count": 25,
   "id": "791ab903",
   "metadata": {},
   "outputs": [
    {
     "data": {
      "text/plain": [
       "31"
      ]
     },
     "execution_count": 25,
     "metadata": {},
     "output_type": "execute_result"
    }
   ],
   "source": [
    "df['Job Title'].nunique()"
   ]
  },
  {
   "cell_type": "code",
   "execution_count": 26,
   "id": "4234acd8",
   "metadata": {},
   "outputs": [],
   "source": [
    "lr=LinearRegression()\n",
    "lr.fit(xtrain,ytrain)\n",
    "ypred=lr.predict(xtest)"
   ]
  },
  {
   "cell_type": "code",
   "execution_count": 27,
   "id": "a272ad28",
   "metadata": {
    "collapsed": true
   },
   "outputs": [
    {
     "data": {
      "text/plain": [
       "array([ 61738.24925099,  41139.90086472, 116504.43119482,  62131.72094334,\n",
       "       122441.61921023,  49211.61622747, 169484.37261648, 178533.36274222,\n",
       "       109212.43982044,  50685.92452942,  80952.65906967,  46982.35729575,\n",
       "       104774.33346558, 124485.77682321,  46169.02968655,  43984.95562201,\n",
       "       157980.19922313, 107093.96213165, 170572.4286224 ,  50188.89099046,\n",
       "       125175.13107723,  52734.44399242, 128788.32857654, 157980.19922313,\n",
       "       153327.74977873, 175695.52738125,  80246.49350974, 172148.68790506,\n",
       "        46937.17242857,  66558.24605185, 172756.50268694, 159712.42461589,\n",
       "        52562.48150485, 164775.15705855,  54918.51805696, 161161.95955924,\n",
       "       129528.0977573 ,  54150.37531494, 132155.19023139, 152182.92765927,\n",
       "        83904.87587623,  54150.37531494, 121213.64675275, 153327.74977873,\n",
       "        79523.5356349 , 146245.73964386, 125836.11176998,  30432.26276565,\n",
       "       157980.19922313, 165756.03202421,  54240.7450493 , 142501.34939304,\n",
       "       159732.83612446,  54963.70292414,  52463.33478936, 102647.02551456,\n",
       "       105135.812403  ,  76013.89998219,  47163.09676446, 157528.35055135,\n",
       "       186469.52350344, 109212.43982044,  39526.43775857,  54150.37531494,\n",
       "       128033.37794677, 145863.84919786,  57328.51645739,  65803.29542208,\n",
       "       105316.55187171,  49166.43136029, 166959.23112309, 160567.3368896 ,\n",
       "        94115.48043635, 172756.50268694,  31200.40550767])"
      ]
     },
     "execution_count": 27,
     "metadata": {},
     "output_type": "execute_result"
    }
   ],
   "source": [
    "ypred"
   ]
  },
  {
   "cell_type": "code",
   "execution_count": 28,
   "id": "88286904",
   "metadata": {},
   "outputs": [],
   "source": [
    "def mymodel(model):\n",
    "    model.fit(xtrain,ytrain)\n",
    "    ypred=model.predict(xtest)\n",
    "    print(classification_report(ytest,ypred))\n",
    "    print(accuracy_score(ytest,ypred))\n",
    "    return model    "
   ]
  },
  {
   "cell_type": "code",
   "execution_count": 29,
   "id": "cc1100db",
   "metadata": {
    "scrolled": true
   },
   "outputs": [
    {
     "data": {
      "text/plain": [
       "array([ 61738.24925099,  41139.90086472, 116504.43119482,  62131.72094334,\n",
       "       122441.61921023,  49211.61622747, 169484.37261648, 178533.36274222,\n",
       "       109212.43982044,  50685.92452942,  80952.65906967,  46982.35729575,\n",
       "       104774.33346558, 124485.77682321,  46169.02968655,  43984.95562201,\n",
       "       157980.19922313, 107093.96213165, 170572.4286224 ,  50188.89099046,\n",
       "       125175.13107723,  52734.44399242, 128788.32857654, 157980.19922313,\n",
       "       153327.74977873, 175695.52738125,  80246.49350974, 172148.68790506,\n",
       "        46937.17242857,  66558.24605185, 172756.50268694, 159712.42461589,\n",
       "        52562.48150485, 164775.15705855,  54918.51805696, 161161.95955924,\n",
       "       129528.0977573 ,  54150.37531494, 132155.19023139, 152182.92765927,\n",
       "        83904.87587623,  54150.37531494, 121213.64675275, 153327.74977873,\n",
       "        79523.5356349 , 146245.73964386, 125836.11176998,  30432.26276565,\n",
       "       157980.19922313, 165756.03202421,  54240.7450493 , 142501.34939304,\n",
       "       159732.83612446,  54963.70292414,  52463.33478936, 102647.02551456,\n",
       "       105135.812403  ,  76013.89998219,  47163.09676446, 157528.35055135,\n",
       "       186469.52350344, 109212.43982044,  39526.43775857,  54150.37531494,\n",
       "       128033.37794677, 145863.84919786,  57328.51645739,  65803.29542208,\n",
       "       105316.55187171,  49166.43136029, 166959.23112309, 160567.3368896 ,\n",
       "        94115.48043635, 172756.50268694,  31200.40550767])"
      ]
     },
     "execution_count": 29,
     "metadata": {},
     "output_type": "execute_result"
    }
   ],
   "source": [
    "ypred"
   ]
  },
  {
   "cell_type": "code",
   "execution_count": 30,
   "id": "47d007cf",
   "metadata": {},
   "outputs": [
    {
     "data": {
      "text/plain": [
       "67      45000.0\n",
       "348     35000.0\n",
       "343    150000.0\n",
       "295     60000.0\n",
       "90     120000.0\n",
       "         ...   \n",
       "78     180000.0\n",
       "176    140000.0\n",
       "269    110000.0\n",
       "306    180000.0\n",
       "82      30000.0\n",
       "Name: Salary, Length: 75, dtype: float64"
      ]
     },
     "execution_count": 30,
     "metadata": {},
     "output_type": "execute_result"
    }
   ],
   "source": [
    "ytest"
   ]
  },
  {
   "cell_type": "markdown",
   "id": "eeba07f9",
   "metadata": {},
   "source": [
    "## Evaluate the Model"
   ]
  },
  {
   "cell_type": "code",
   "execution_count": 31,
   "id": "c339d79f",
   "metadata": {},
   "outputs": [
    {
     "data": {
      "text/plain": [
       "0.9191397287652168"
      ]
     },
     "execution_count": 31,
     "metadata": {},
     "output_type": "execute_result"
    }
   ],
   "source": [
    "from sklearn.metrics import r2_score\n",
    "r2_score(ytest,ypred)"
   ]
  },
  {
   "cell_type": "markdown",
   "id": "d86664ff",
   "metadata": {},
   "source": [
    "## Accuracy"
   ]
  },
  {
   "cell_type": "code",
   "execution_count": 33,
   "id": "cf8110e7",
   "metadata": {},
   "outputs": [],
   "source": [
    "# Train linear regression model\n",
    "lr = LinearRegression()\n",
    "lr.fit(xtrain, ytrain)\n",
    "ypred_lr = lr.predict(xtest)"
   ]
  },
  {
   "cell_type": "code",
   "execution_count": 34,
   "id": "ca63bb24",
   "metadata": {},
   "outputs": [
    {
     "ename": "NameError",
     "evalue": "name 'mean_squared_error' is not defined",
     "output_type": "error",
     "traceback": [
      "\u001b[1;31m---------------------------------------------------------------------------\u001b[0m",
      "\u001b[1;31mNameError\u001b[0m                                 Traceback (most recent call last)",
      "\u001b[1;32m~\\AppData\\Local\\Temp\\ipykernel_11908\\1503409141.py\u001b[0m in \u001b[0;36m<module>\u001b[1;34m\u001b[0m\n\u001b[0;32m      1\u001b[0m \u001b[1;31m# Evaluate linear regression model using R-squared and RMSE scores\u001b[0m\u001b[1;33m\u001b[0m\u001b[1;33m\u001b[0m\u001b[0m\n\u001b[0;32m      2\u001b[0m \u001b[0mr2_lr\u001b[0m \u001b[1;33m=\u001b[0m \u001b[0mr2_score\u001b[0m\u001b[1;33m(\u001b[0m\u001b[0mytest\u001b[0m\u001b[1;33m,\u001b[0m \u001b[0mypred_lr\u001b[0m\u001b[1;33m)\u001b[0m\u001b[1;33m\u001b[0m\u001b[1;33m\u001b[0m\u001b[0m\n\u001b[1;32m----> 3\u001b[1;33m \u001b[0mmse_lr\u001b[0m \u001b[1;33m=\u001b[0m \u001b[0mmean_squared_error\u001b[0m\u001b[1;33m(\u001b[0m\u001b[0mytest\u001b[0m\u001b[1;33m,\u001b[0m \u001b[0mypred_lr\u001b[0m\u001b[1;33m)\u001b[0m\u001b[1;33m\u001b[0m\u001b[1;33m\u001b[0m\u001b[0m\n\u001b[0m\u001b[0;32m      4\u001b[0m \u001b[0mrmse_lr\u001b[0m \u001b[1;33m=\u001b[0m \u001b[0mnp\u001b[0m\u001b[1;33m.\u001b[0m\u001b[0msqrt\u001b[0m\u001b[1;33m(\u001b[0m\u001b[0mmse_lr\u001b[0m\u001b[1;33m)\u001b[0m\u001b[1;33m\u001b[0m\u001b[1;33m\u001b[0m\u001b[0m\n\u001b[0;32m      5\u001b[0m \u001b[0mprint\u001b[0m\u001b[1;33m(\u001b[0m\u001b[1;34mf'Linear Regression - R-squared: {r2_lr}, RMSE: {rmse_lr}'\u001b[0m\u001b[1;33m)\u001b[0m\u001b[1;33m\u001b[0m\u001b[1;33m\u001b[0m\u001b[0m\n",
      "\u001b[1;31mNameError\u001b[0m: name 'mean_squared_error' is not defined"
     ]
    }
   ],
   "source": [
    "# Evaluate linear regression model using R-squared and RMSE scores\n",
    "r2_lr = r2_score(ytest, ypred_lr)\n",
    "mse_lr = mean_squared_error(ytest, ypred_lr)\n",
    "rmse_lr = np.sqrt(mse_lr)\n",
    "print(f'Linear Regression - R-squared: {r2_lr}, RMSE: {rmse_lr}')\n"
   ]
  },
  {
   "cell_type": "code",
   "execution_count": null,
   "id": "6546fc93",
   "metadata": {},
   "outputs": [],
   "source": []
  },
  {
   "cell_type": "code",
   "execution_count": 35,
   "id": "968230a2",
   "metadata": {},
   "outputs": [],
   "source": [
    "knn=KNeighborsClassifier()\n",
    "svm=SVC()\n",
    "dt=DecisionTreeClassifier()"
   ]
  },
  {
   "cell_type": "code",
   "execution_count": 36,
   "id": "a97828f2",
   "metadata": {},
   "outputs": [
    {
     "name": "stdout",
     "output_type": "stream",
     "text": [
      "              precision    recall  f1-score   support\n",
      "\n",
      "     30000.0       0.00      0.00      0.00         1\n",
      "     35000.0       0.00      0.00      0.00         2\n",
      "     40000.0       0.46      0.86      0.60         7\n",
      "     45000.0       1.00      0.17      0.29         6\n",
      "     50000.0       0.80      0.67      0.73         6\n",
      "     55000.0       0.33      0.33      0.33         3\n",
      "     60000.0       0.50      0.33      0.40         3\n",
      "     65000.0       0.00      0.00      0.00         1\n",
      "     70000.0       0.33      1.00      0.50         1\n",
      "     80000.0       0.00      0.00      0.00         2\n",
      "     85000.0       0.50      1.00      0.67         1\n",
      "     90000.0       1.00      0.25      0.40         4\n",
      "     95000.0       0.00      0.00      0.00         1\n",
      "    100000.0       0.00      0.00      0.00         2\n",
      "    105000.0       0.00      0.00      0.00         1\n",
      "    110000.0       0.00      0.00      0.00         2\n",
      "    115000.0       0.00      0.00      0.00         1\n",
      "    120000.0       0.00      0.00      0.00         3\n",
      "    130000.0       0.00      0.00      0.00         1\n",
      "    140000.0       0.00      0.00      0.00         6\n",
      "    150000.0       0.50      0.12      0.20         8\n",
      "    160000.0       0.40      0.67      0.50         3\n",
      "    170000.0       0.50      1.00      0.67         2\n",
      "    175000.0       0.00      0.00      0.00         1\n",
      "    180000.0       0.67      0.80      0.73         5\n",
      "    190000.0       0.00      0.00      0.00         1\n",
      "    200000.0       0.00      0.00      0.00         1\n",
      "\n",
      "    accuracy                           0.33        75\n",
      "   macro avg       0.26      0.27      0.22        75\n",
      "weighted avg       0.41      0.33      0.31        75\n",
      "\n",
      "0.3333333333333333\n"
     ]
    },
    {
     "data": {
      "text/plain": [
       "KNeighborsClassifier()"
      ]
     },
     "execution_count": 36,
     "metadata": {},
     "output_type": "execute_result"
    }
   ],
   "source": [
    "mymodel(knn)"
   ]
  },
  {
   "cell_type": "code",
   "execution_count": 37,
   "id": "fcf282a6",
   "metadata": {},
   "outputs": [
    {
     "name": "stdout",
     "output_type": "stream",
     "text": [
      "              precision    recall  f1-score   support\n",
      "\n",
      "     30000.0       0.00      0.00      0.00         1\n",
      "     35000.0       0.00      0.00      0.00         2\n",
      "     40000.0       0.27      1.00      0.42         7\n",
      "     45000.0       0.00      0.00      0.00         6\n",
      "     50000.0       0.00      0.00      0.00         6\n",
      "     55000.0       0.00      0.00      0.00         3\n",
      "     60000.0       0.00      0.00      0.00         3\n",
      "     65000.0       0.00      0.00      0.00         1\n",
      "     70000.0       0.00      0.00      0.00         1\n",
      "     80000.0       0.00      0.00      0.00         2\n",
      "     85000.0       0.00      0.00      0.00         1\n",
      "     90000.0       0.00      0.00      0.00         4\n",
      "     95000.0       0.00      0.00      0.00         1\n",
      "    100000.0       0.00      0.00      0.00         2\n",
      "    105000.0       0.00      0.00      0.00         1\n",
      "    110000.0       0.00      0.00      0.00         2\n",
      "    115000.0       0.00      0.00      0.00         1\n",
      "    120000.0       0.18      1.00      0.30         3\n",
      "    130000.0       0.00      0.00      0.00         1\n",
      "    140000.0       0.00      0.00      0.00         6\n",
      "    150000.0       0.00      0.00      0.00         8\n",
      "    160000.0       0.43      1.00      0.60         3\n",
      "    170000.0       0.00      0.00      0.00         2\n",
      "    175000.0       0.00      0.00      0.00         1\n",
      "    180000.0       0.42      1.00      0.59         5\n",
      "    190000.0       0.00      0.00      0.00         1\n",
      "    200000.0       0.00      0.00      0.00         1\n",
      "\n",
      "    accuracy                           0.24        75\n",
      "   macro avg       0.05      0.15      0.07        75\n",
      "weighted avg       0.08      0.24      0.11        75\n",
      "\n",
      "0.24\n"
     ]
    },
    {
     "data": {
      "text/plain": [
       "SVC()"
      ]
     },
     "execution_count": 37,
     "metadata": {},
     "output_type": "execute_result"
    }
   ],
   "source": [
    "mymodel(svm)"
   ]
  },
  {
   "cell_type": "code",
   "execution_count": 38,
   "id": "2def0b52",
   "metadata": {},
   "outputs": [
    {
     "name": "stdout",
     "output_type": "stream",
     "text": [
      "              precision    recall  f1-score   support\n",
      "\n",
      "     30000.0       0.00      0.00      0.00         1\n",
      "     35000.0       0.67      1.00      0.80         2\n",
      "     40000.0       0.67      0.86      0.75         7\n",
      "     45000.0       1.00      0.17      0.29         6\n",
      "     50000.0       0.67      0.67      0.67         6\n",
      "     55000.0       0.25      0.33      0.29         3\n",
      "     60000.0       0.33      0.33      0.33         3\n",
      "     65000.0       0.00      0.00      0.00         1\n",
      "     70000.0       0.33      1.00      0.50         1\n",
      "     80000.0       0.00      0.00      0.00         2\n",
      "     85000.0       1.00      1.00      1.00         1\n",
      "     90000.0       1.00      0.25      0.40         4\n",
      "     95000.0       0.00      0.00      0.00         1\n",
      "    100000.0       0.50      0.50      0.50         2\n",
      "    105000.0       0.00      0.00      0.00         1\n",
      "    110000.0       0.00      0.00      0.00         2\n",
      "    115000.0       0.00      0.00      0.00         1\n",
      "    120000.0       0.25      0.33      0.29         3\n",
      "    130000.0       0.00      0.00      0.00         1\n",
      "    140000.0       0.00      0.00      0.00         6\n",
      "    150000.0       0.80      0.50      0.62         8\n",
      "    160000.0       0.43      1.00      0.60         3\n",
      "    170000.0       0.50      1.00      0.67         2\n",
      "    175000.0       0.00      0.00      0.00         1\n",
      "    180000.0       0.57      0.80      0.67         5\n",
      "    190000.0       0.00      0.00      0.00         1\n",
      "    200000.0       0.00      0.00      0.00         1\n",
      "\n",
      "    accuracy                           0.44        75\n",
      "   macro avg       0.33      0.36      0.31        75\n",
      "weighted avg       0.49      0.44      0.41        75\n",
      "\n",
      "0.44\n"
     ]
    },
    {
     "data": {
      "text/plain": [
       "DecisionTreeClassifier()"
      ]
     },
     "execution_count": 38,
     "metadata": {},
     "output_type": "execute_result"
    }
   ],
   "source": [
    "mymodel(dt)"
   ]
  },
  {
   "cell_type": "markdown",
   "id": "cd3ffcf8",
   "metadata": {},
   "source": [
    "## Hypertunning DT"
   ]
  },
  {
   "cell_type": "markdown",
   "id": "c2825b3e",
   "metadata": {},
   "source": [
    "### Max_depth"
   ]
  },
  {
   "cell_type": "code",
   "execution_count": 39,
   "id": "7a09bf57",
   "metadata": {},
   "outputs": [
    {
     "name": "stdout",
     "output_type": "stream",
     "text": [
      "max_depth: 50 Accuracy : 0.8707131425359759\n",
      "max_depth: 51 Accuracy : 0.8479658525050293\n",
      "max_depth: 52 Accuracy : 0.8583756292988522\n",
      "max_depth: 53 Accuracy : 0.8460381160617287\n",
      "max_depth: 54 Accuracy : 0.8443674111442016\n",
      "max_depth: 55 Accuracy : 0.8489939786081229\n",
      "max_depth: 56 Accuracy : 0.8320298979070779\n",
      "max_depth: 57 Accuracy : 0.8360138865565658\n",
      "max_depth: 58 Accuracy : 0.8416685801235808\n",
      "max_depth: 59 Accuracy : 0.8525924199689506\n",
      "max_depth: 60 Accuracy : 0.8366564653709994\n",
      "max_depth: 61 Accuracy : 0.8475803052163692\n",
      "max_depth: 62 Accuracy : 0.8505361677627633\n",
      "max_depth: 63 Accuracy : 0.8385842018142999\n",
      "max_depth: 64 Accuracy : 0.8722553316906163\n",
      "max_depth: 65 Accuracy : 0.8655725120205077\n",
      "max_depth: 66 Accuracy : 0.8376845914740929\n",
      "max_depth: 67 Accuracy : 0.8582471135359656\n",
      "max_depth: 68 Accuracy : 0.8558053140411181\n",
      "max_depth: 69 Accuracy : 0.8426967062266744\n",
      "max_depth: 70 Accuracy : 0.8525924199689506\n",
      "max_depth: 71 Accuracy : 0.8506646835256501\n",
      "max_depth: 72 Accuracy : 0.8556767982782315\n",
      "max_depth: 73 Accuracy : 0.8325439609586248\n",
      "max_depth: 74 Accuracy : 0.8448814741957484\n",
      "max_depth: 75 Accuracy : 0.8551627352266846\n",
      "max_depth: 76 Accuracy : 0.8464236633503888\n",
      "max_depth: 77 Accuracy : 0.8686568903297887\n",
      "max_depth: 78 Accuracy : 0.8433392850411079\n",
      "max_depth: 79 Accuracy : 0.8464236633503888\n",
      "max_depth: 80 Accuracy : 0.8570904716699852\n",
      "max_depth: 81 Accuracy : 0.8587611765875124\n",
      "max_depth: 82 Accuracy : 0.8344716974019254\n",
      "max_depth: 83 Accuracy : 0.8376845914740929\n",
      "max_depth: 84 Accuracy : 0.8284314565462503\n",
      "max_depth: 85 Accuracy : 0.8154513644946932\n",
      "max_depth: 86 Accuracy : 0.794246263618387\n",
      "max_depth: 87 Accuracy : 0.8520783569174037\n",
      "max_depth: 88 Accuracy : 0.8381986545256398\n",
      "max_depth: 89 Accuracy : 0.8453955372472952\n",
      "max_depth: 90 Accuracy : 0.8520783569174037\n",
      "max_depth: 91 Accuracy : 0.86197407065968\n",
      "max_depth: 92 Accuracy : 0.8453955372472952\n",
      "max_depth: 93 Accuracy : 0.8504076519998767\n",
      "max_depth: 94 Accuracy : 0.8361424023194525\n",
      "max_depth: 95 Accuracy : 0.8700705637215423\n",
      "max_depth: 96 Accuracy : 0.8330580240101716\n",
      "max_depth: 97 Accuracy : 0.8113388600823186\n",
      "max_depth: 98 Accuracy : 0.8313873190926444\n",
      "max_depth: 99 Accuracy : 0.8695565006699955\n",
      "max_depth: 100 Accuracy : 0.8283029407833635\n",
      "max_depth: 101 Accuracy : 0.8381986545256398\n",
      "max_depth: 102 Accuracy : 0.8649299332060741\n",
      "max_depth: 103 Accuracy : 0.8623596179483402\n",
      "max_depth: 104 Accuracy : 0.8536205460720443\n",
      "max_depth: 105 Accuracy : 0.8708416582988625\n",
      "max_depth: 106 Accuracy : 0.859789302690606\n",
      "max_depth: 107 Accuracy : 0.805555650752417\n",
      "max_depth: 108 Accuracy : 0.8488654628452362\n",
      "max_depth: 109 Accuracy : 0.8573475031957587\n",
      "max_depth: 110 Accuracy : 0.848094368267916\n",
      "max_depth: 111 Accuracy : 0.8534920303091575\n",
      "max_depth: 112 Accuracy : 0.857218987432872\n",
      "max_depth: 113 Accuracy : 0.8313873190926444\n",
      "max_depth: 114 Accuracy : 0.8587611765875124\n",
      "max_depth: 115 Accuracy : 0.8520783569174037\n",
      "max_depth: 116 Accuracy : 0.8666006381236013\n",
      "max_depth: 117 Accuracy : 0.8267607516287231\n",
      "max_depth: 118 Accuracy : 0.8319013821441913\n",
      "max_depth: 119 Accuracy : 0.8496365574225564\n",
      "max_depth: 120 Accuracy : 0.8320298979070779\n",
      "max_depth: 121 Accuracy : 0.8426967062266744\n",
      "max_depth: 122 Accuracy : 0.86197407065968\n",
      "max_depth: 123 Accuracy : 0.8690424376184487\n",
      "max_depth: 124 Accuracy : 0.8438533480926548\n",
      "max_depth: 125 Accuracy : 0.8365279496081126\n",
      "max_depth: 126 Accuracy : 0.8582471135359656\n",
      "max_depth: 127 Accuracy : 0.8690424376184487\n",
      "max_depth: 128 Accuracy : 0.8313873190926444\n",
      "max_depth: 129 Accuracy : 0.8527209357318373\n",
      "max_depth: 130 Accuracy : 0.8365279496081126\n",
      "max_depth: 131 Accuracy : 0.8536205460720443\n",
      "max_depth: 132 Accuracy : 0.8433392850411079\n",
      "max_depth: 133 Accuracy : 0.8541346091235911\n",
      "max_depth: 134 Accuracy : 0.8426967062266744\n",
      "max_depth: 135 Accuracy : 0.8504076519998767\n",
      "max_depth: 136 Accuracy : 0.8666006381236013\n",
      "max_depth: 137 Accuracy : 0.849379525896783\n",
      "max_depth: 138 Accuracy : 0.8325439609586248\n",
      "max_depth: 139 Accuracy : 0.855034219463798\n",
      "max_depth: 140 Accuracy : 0.8432107692782213\n",
      "max_depth: 141 Accuracy : 0.8633877440514337\n",
      "max_depth: 142 Accuracy : 0.8588896923503991\n",
      "max_depth: 143 Accuracy : 0.8313873190926444\n",
      "max_depth: 144 Accuracy : 0.8630021967627737\n",
      "max_depth: 145 Accuracy : 0.8416685801235808\n",
      "max_depth: 146 Accuracy : 0.8489939786081229\n",
      "max_depth: 147 Accuracy : 0.8475803052163692\n",
      "max_depth: 148 Accuracy : 0.8448814741957484\n",
      "max_depth: 149 Accuracy : 0.8387127175771866\n"
     ]
    }
   ],
   "source": [
    "for i in range(50,150):\n",
    "    dt1=DecisionTreeClassifier(max_depth=i)\n",
    "    dt1.fit(xtrain,ytrain)\n",
    "    ypred=dt1.predict(xtest)\n",
    "    ac=r2_score(ytest,ypred)\n",
    "    print(f'max_depth: {i} Accuracy : {ac}')"
   ]
  },
  {
   "cell_type": "code",
   "execution_count": 40,
   "id": "50c11f9c",
   "metadata": {},
   "outputs": [
    {
     "name": "stdout",
     "output_type": "stream",
     "text": [
      "              precision    recall  f1-score   support\n",
      "\n",
      "     30000.0       0.00      0.00      0.00         1\n",
      "     35000.0       0.67      1.00      0.80         2\n",
      "     40000.0       0.67      0.86      0.75         7\n",
      "     45000.0       1.00      0.33      0.50         6\n",
      "     50000.0       0.71      0.83      0.77         6\n",
      "     55000.0       0.33      0.33      0.33         3\n",
      "     60000.0       0.50      0.33      0.40         3\n",
      "     65000.0       0.00      0.00      0.00         1\n",
      "     70000.0       1.00      1.00      1.00         1\n",
      "     80000.0       0.00      0.00      0.00         2\n",
      "     85000.0       1.00      1.00      1.00         1\n",
      "     90000.0       0.50      0.25      0.33         4\n",
      "     95000.0       0.00      0.00      0.00         1\n",
      "    100000.0       0.25      0.50      0.33         2\n",
      "    105000.0       0.00      0.00      0.00         1\n",
      "    110000.0       0.00      0.00      0.00         2\n",
      "    115000.0       0.00      0.00      0.00         1\n",
      "    120000.0       0.25      0.33      0.29         3\n",
      "    130000.0       0.00      0.00      0.00         1\n",
      "    140000.0       0.00      0.00      0.00         6\n",
      "    150000.0       0.67      0.50      0.57         8\n",
      "    160000.0       0.60      1.00      0.75         3\n",
      "    170000.0       0.50      1.00      0.67         2\n",
      "    175000.0       0.00      0.00      0.00         1\n",
      "    180000.0       0.50      0.80      0.62         5\n",
      "    190000.0       0.00      0.00      0.00         1\n",
      "    200000.0       0.00      0.00      0.00         1\n",
      "\n",
      "    accuracy                           0.47        75\n",
      "   macro avg       0.34      0.37      0.34        75\n",
      "weighted avg       0.46      0.47      0.44        75\n",
      "\n",
      "0.4666666666666667\n"
     ]
    },
    {
     "data": {
      "text/plain": [
       "DecisionTreeClassifier(max_depth=146)"
      ]
     },
     "execution_count": 40,
     "metadata": {},
     "output_type": "execute_result"
    }
   ],
   "source": [
    "dt2=DecisionTreeClassifier(max_depth=146)\n",
    "mymodel(dt2) #76"
   ]
  },
  {
   "cell_type": "code",
   "execution_count": 42,
   "id": "cc05466b",
   "metadata": {},
   "outputs": [
    {
     "name": "stdout",
     "output_type": "stream",
     "text": [
      "Train score :0.9261744966442953 \n",
      " Test Score 0.4666666666666667\n"
     ]
    }
   ],
   "source": [
    "train=dt2.score(xtrain,ytrain)\n",
    "test=dt2.score(xtest,ytest)\n",
    "print(f'Train score :{train} \\n Test Score {test}')#176 overfit"
   ]
  },
  {
   "cell_type": "markdown",
   "id": "d8fed546",
   "metadata": {},
   "source": [
    "### Min Sample Split"
   ]
  },
  {
   "cell_type": "code",
   "execution_count": 43,
   "id": "0f90fcdf",
   "metadata": {},
   "outputs": [
    {
     "name": "stdout",
     "output_type": "stream",
     "text": [
      "max_depth: 2 Accuracy : 0.8599178184534928\n",
      "max_depth: 3 Accuracy : 0.8365279496081126\n",
      "max_depth: 4 Accuracy : 0.8340861501132653\n",
      "max_depth: 5 Accuracy : 0.8366564653709994\n",
      "max_depth: 6 Accuracy : 0.8379416229998664\n",
      "max_depth: 7 Accuracy : 0.8750826784741238\n",
      "max_depth: 8 Accuracy : 0.8363994338452259\n",
      "max_depth: 9 Accuracy : 0.880608856278252\n",
      "max_depth: 10 Accuracy : 0.8434678008039946\n",
      "max_depth: 11 Accuracy : 0.8455240530101819\n",
      "max_depth: 12 Accuracy : 0.8438533480926548\n",
      "max_depth: 13 Accuracy : 0.8826651084844394\n",
      "max_depth: 14 Accuracy : 0.8883198020514543\n",
      "max_depth: 15 Accuracy : 0.8883198020514543\n",
      "max_depth: 16 Accuracy : 0.8883198020514543\n",
      "max_depth: 17 Accuracy : 0.8857494867937202\n",
      "max_depth: 18 Accuracy : 0.8878057389999074\n",
      "max_depth: 19 Accuracy : 0.891918243412282\n",
      "max_depth: 20 Accuracy : 0.8915326961236218\n",
      "max_depth: 21 Accuracy : 0.8926893379896023\n",
      "max_depth: 22 Accuracy : 0.8772674464431978\n",
      "max_depth: 23 Accuracy : 0.877138930680311\n",
      "max_depth: 24 Accuracy : 0.8739260366081435\n",
      "max_depth: 25 Accuracy : 0.8739260366081435\n",
      "max_depth: 26 Accuracy : 0.8615885233710199\n",
      "max_depth: 27 Accuracy : 0.8615885233710199\n",
      "max_depth: 28 Accuracy : 0.8615885233710199\n",
      "max_depth: 29 Accuracy : 0.8615885233710199\n",
      "max_depth: 30 Accuracy : 0.8615885233710199\n",
      "max_depth: 31 Accuracy : 0.8615885233710199\n",
      "max_depth: 32 Accuracy : 0.8615885233710199\n",
      "max_depth: 33 Accuracy : 0.8615885233710199\n",
      "max_depth: 34 Accuracy : 0.8615885233710199\n",
      "max_depth: 35 Accuracy : 0.8615885233710199\n",
      "max_depth: 36 Accuracy : 0.8615885233710199\n",
      "max_depth: 37 Accuracy : 0.8486084313194628\n",
      "max_depth: 38 Accuracy : 0.8486084313194628\n",
      "max_depth: 39 Accuracy : 0.8486084313194628\n",
      "max_depth: 40 Accuracy : 0.8486084313194628\n",
      "max_depth: 41 Accuracy : 0.8486084313194628\n",
      "max_depth: 42 Accuracy : 0.8486084313194628\n",
      "max_depth: 43 Accuracy : 0.8483513997936893\n",
      "max_depth: 44 Accuracy : 0.8483513997936893\n",
      "max_depth: 45 Accuracy : 0.8483513997936893\n",
      "max_depth: 46 Accuracy : 0.8457810845359552\n",
      "max_depth: 47 Accuracy : 0.8457810845359552\n",
      "max_depth: 48 Accuracy : 0.8457810845359552\n",
      "max_depth: 49 Accuracy : 0.8457810845359552\n"
     ]
    }
   ],
   "source": [
    "for i in range(2,50):\n",
    "    dt3=DecisionTreeClassifier(min_samples_split=i)\n",
    "    dt3.fit(xtrain,ytrain)\n",
    "    ypred=dt3.predict(xtest)\n",
    "    ac=r2_score(ytest,ypred)\n",
    "    print(f'max_depth: {i} Accuracy : {ac}')"
   ]
  },
  {
   "cell_type": "code",
   "execution_count": 44,
   "id": "06303bb3",
   "metadata": {},
   "outputs": [
    {
     "name": "stdout",
     "output_type": "stream",
     "text": [
      "              precision    recall  f1-score   support\n",
      "\n",
      "     30000.0       0.00      0.00      0.00         1\n",
      "     35000.0       0.50      1.00      0.67         2\n",
      "     40000.0       0.88      1.00      0.93         7\n",
      "     45000.0       0.00      0.00      0.00         6\n",
      "     50000.0       0.50      1.00      0.67         6\n",
      "     55000.0       0.00      0.00      0.00         3\n",
      "     60000.0       0.50      0.33      0.40         3\n",
      "     65000.0       0.00      0.00      0.00         1\n",
      "     70000.0       0.00      0.00      0.00         1\n",
      "     80000.0       0.00      0.00      0.00         2\n",
      "     85000.0       1.00      1.00      1.00         1\n",
      "     90000.0       0.50      0.25      0.33         4\n",
      "     95000.0       0.00      0.00      0.00         1\n",
      "    100000.0       0.00      0.00      0.00         2\n",
      "    105000.0       0.00      0.00      0.00         1\n",
      "    110000.0       0.00      0.00      0.00         2\n",
      "    115000.0       0.00      0.00      0.00         1\n",
      "    120000.0       0.10      0.33      0.15         3\n",
      "    130000.0       0.00      0.00      0.00         1\n",
      "    140000.0       0.00      0.00      0.00         6\n",
      "    150000.0       0.75      0.38      0.50         8\n",
      "    160000.0       0.27      1.00      0.43         3\n",
      "    170000.0       0.29      1.00      0.44         2\n",
      "    175000.0       0.00      0.00      0.00         1\n",
      "    180000.0       0.75      0.60      0.67         5\n",
      "    190000.0       0.00      0.00      0.00         1\n",
      "    200000.0       0.00      0.00      0.00         1\n",
      "\n",
      "    accuracy                           0.40        75\n",
      "   macro avg       0.22      0.29      0.23        75\n",
      "weighted avg       0.35      0.40      0.34        75\n",
      "\n",
      "0.4\n"
     ]
    },
    {
     "data": {
      "text/plain": [
       "DecisionTreeClassifier(min_samples_split=36)"
      ]
     },
     "execution_count": 44,
     "metadata": {},
     "output_type": "execute_result"
    }
   ],
   "source": [
    "dt4=DecisionTreeClassifier(min_samples_split=36)\n",
    "mymodel(dt4)"
   ]
  },
  {
   "cell_type": "code",
   "execution_count": 45,
   "id": "63470b64",
   "metadata": {},
   "outputs": [],
   "source": [
    "from sklearn.linear_model import Ridge,Lasso"
   ]
  },
  {
   "cell_type": "code",
   "execution_count": 60,
   "id": "d7ba6c2a",
   "metadata": {},
   "outputs": [
    {
     "name": "stdout",
     "output_type": "stream",
     "text": [
      "lambda 1 testscore 0.9192935935782061\n",
      "lambda 2 testscore 0.919438970322522\n",
      "lambda 3 testscore 0.9195762767643513\n",
      "lambda 4 testscore 0.9197059074626233\n",
      "lambda 5 testscore 0.9198282352419804\n",
      "lambda 6 testscore 0.919943612559944\n",
      "lambda 7 testscore 0.9200523727767738\n",
      "lambda 8 testscore 0.9201548313357645\n",
      "lambda 9 testscore 0.9202512868610385\n",
      "lambda 10 testscore 0.9203420221792836\n",
      "lambda 11 testscore 0.9204273052713233\n",
      "lambda 12 testscore 0.9205073901589046\n",
      "lambda 13 testscore 0.9205825177316346\n",
      "lambda 14 testscore 0.9206529165185748\n",
      "lambda 15 testscore 0.9207188034086361\n",
      "lambda 16 testscore 0.9207803843235658\n",
      "lambda 17 testscore 0.9208378548470136\n",
      "lambda 18 testscore 0.9208914008128793\n",
      "lambda 19 testscore 0.9209411988558809\n",
      "lambda 20 testscore 0.920987416927058\n",
      "lambda 21 testscore 0.9210302147766996\n",
      "lambda 22 testscore 0.9210697444069968\n",
      "lambda 23 testscore 0.9211061504965375\n",
      "lambda 24 testscore 0.921139570798599\n",
      "lambda 25 testscore 0.9211701365150435\n",
      "lambda 26 testscore 0.9211979726474832\n",
      "lambda 27 testscore 0.921223198327258\n",
      "lambda 28 testscore 0.921245927125651\n",
      "lambda 29 testscore 0.921266267345662\n",
      "lambda 30 testscore 0.9212843222965611\n",
      "lambda 31 testscore 0.9213001905523579\n",
      "lambda 32 testscore 0.9213139661952343\n",
      "lambda 33 testscore 0.921325739044917\n",
      "lambda 34 testscore 0.9213355948748959\n",
      "lambda 35 testscore 0.9213436156163267\n",
      "lambda 36 testscore 0.921349879550403\n",
      "lambda 37 testscore 0.9213544614899195\n",
      "lambda 38 testscore 0.9213574329507082\n",
      "lambda 39 testscore 0.9213588623135713\n",
      "lambda 40 testscore 0.9213588149773028\n",
      "lambda 41 testscore 0.9213573535033397\n",
      "lambda 42 testscore 0.9213545377525568\n",
      "lambda 43 testscore 0.9213504250146772\n",
      "lambda 44 testscore 0.9213450701307427\n",
      "lambda 45 testscore 0.9213385256090596\n",
      "lambda 46 testscore 0.9213308417350042\n",
      "lambda 47 testscore 0.9213220666750525\n",
      "lambda 48 testscore 0.9213122465753683\n",
      "lambda 49 testscore 0.9213014256552712\n",
      "lambda 50 testscore 0.9212896462958738\n",
      "lambda 51 testscore 0.9212769491241719\n",
      "lambda 52 testscore 0.9212633730928417\n",
      "lambda 53 testscore 0.9212489555559915\n",
      "lambda 54 testscore 0.9212337323410927\n",
      "lambda 55 testscore 0.9212177378173059\n",
      "lambda 56 testscore 0.9212010049604017\n",
      "lambda 57 testscore 0.9211835654144659\n",
      "lambda 58 testscore 0.9211654495505641\n",
      "lambda 59 testscore 0.9211466865225333\n",
      "lambda 60 testscore 0.9211273043200557\n",
      "lambda 61 testscore 0.9211073298191627\n",
      "lambda 62 testscore 0.9210867888303057\n",
      "lambda 63 testscore 0.9210657061441245\n",
      "lambda 64 testscore 0.921044105575036\n",
      "lambda 65 testscore 0.9210220100027562\n",
      "lambda 66 testscore 0.9209994414118662\n",
      "lambda 67 testscore 0.9209764209295247\n",
      "lambda 68 testscore 0.9209529688614193\n",
      "lambda 69 testscore 0.9209291047260528\n",
      "lambda 70 testscore 0.9209048472874459\n",
      "lambda 71 testscore 0.9208802145863391\n",
      "lambda 72 testscore 0.9208552239699699\n",
      "lambda 73 testscore 0.9208298921204965\n",
      "lambda 74 testscore 0.9208042350821368\n",
      "lambda 75 testscore 0.9207782682870861\n",
      "lambda 76 testscore 0.920752006580275\n",
      "lambda 77 testscore 0.9207254642430251\n",
      "lambda 78 testscore 0.9206986550156547\n",
      "lambda 79 testscore 0.920671592119089\n",
      "lambda 80 testscore 0.9206442882755205\n",
      "lambda 81 testscore 0.920616755728167\n",
      "lambda 82 testscore 0.9205890062601717\n",
      "lambda 83 testscore 0.9205610512126823\n",
      "lambda 84 testscore 0.9205329015021547\n",
      "lambda 85 testscore 0.9205045676369132\n",
      "lambda 86 testscore 0.9204760597330028\n",
      "lambda 87 testscore 0.9204473875293702\n",
      "lambda 88 testscore 0.9204185604024007\n",
      "lambda 89 testscore 0.920389587379844\n",
      "lambda 90 testscore 0.9203604771541559\n",
      "lambda 91 testscore 0.9203312380952833\n",
      "lambda 92 testscore 0.9203018782629176\n",
      "lambda 93 testscore 0.9202724054182411\n",
      "lambda 94 testscore 0.9202428270351896\n",
      "lambda 95 testscore 0.9202131503112532\n",
      "lambda 96 testscore 0.9201833821778357\n",
      "lambda 97 testscore 0.9201535293101917\n",
      "lambda 98 testscore 0.9201235981369629\n",
      "lambda 99 testscore 0.9200935948493282\n"
     ]
    }
   ],
   "source": [
    "for i in range(1,100):\n",
    "    l2=Ridge(alpha=i)\n",
    "    l2.fit(xtrain,ytrain)\n",
    "    \n",
    "    test=l2.score(xtest,ytest)\n",
    "    print(f'lambda {i} testscore {test}')"
   ]
  },
  {
   "cell_type": "code",
   "execution_count": 55,
   "id": "92236283",
   "metadata": {},
   "outputs": [
    {
     "data": {
      "text/plain": [
       "Ridge(alpha=12)"
      ]
     },
     "execution_count": 55,
     "metadata": {},
     "output_type": "execute_result"
    }
   ],
   "source": [
    "l2=Ridge(alpha=12)\n",
    "l2.fit(xtrain,ytrain)"
   ]
  },
  {
   "cell_type": "code",
   "execution_count": 56,
   "id": "e6d3786f",
   "metadata": {
    "scrolled": false
   },
   "outputs": [
    {
     "name": "stdout",
     "output_type": "stream",
     "text": [
      "0.8842612048992822 0.9205073901589046\n"
     ]
    }
   ],
   "source": [
    "train=l2.score(xtrain,ytrain)\n",
    "test=l2.score(xtest,ytest)\n",
    "print(train,test)"
   ]
  },
  {
   "cell_type": "code",
   "execution_count": 57,
   "id": "5071dce0",
   "metadata": {},
   "outputs": [
    {
     "name": "stdout",
     "output_type": "stream",
     "text": [
      "0.8776561296933282 0.9200032108318323\n"
     ]
    }
   ],
   "source": [
    "l2=Ridge(alpha=102)\n",
    "l2.fit(xtrain,ytrain)\n",
    "\n",
    "train=l2.score(xtrain,ytrain)\n",
    "test=l2.score(xtest,ytest)\n",
    "print(train,test)"
   ]
  },
  {
   "cell_type": "code",
   "execution_count": null,
   "id": "c1b04ff1",
   "metadata": {},
   "outputs": [],
   "source": []
  }
 ],
 "metadata": {
  "kernelspec": {
   "display_name": "Python 3 (ipykernel)",
   "language": "python",
   "name": "python3"
  },
  "language_info": {
   "codemirror_mode": {
    "name": "ipython",
    "version": 3
   },
   "file_extension": ".py",
   "mimetype": "text/x-python",
   "name": "python",
   "nbconvert_exporter": "python",
   "pygments_lexer": "ipython3",
   "version": "3.9.13"
  }
 },
 "nbformat": 4,
 "nbformat_minor": 5
}
